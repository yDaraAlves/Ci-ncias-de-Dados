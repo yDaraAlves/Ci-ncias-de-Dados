{
  "nbformat": 4,
  "nbformat_minor": 0,
  "metadata": {
    "colab": {
      "provenance": [],
      "authorship_tag": "ABX9TyMrNSOmCV8PIbEX1mLaHYaQ",
      "include_colab_link": true
    },
    "kernelspec": {
      "name": "python3",
      "display_name": "Python 3"
    },
    "language_info": {
      "name": "python"
    }
  },
  "cells": [
    {
      "cell_type": "markdown",
      "metadata": {
        "id": "view-in-github",
        "colab_type": "text"
      },
      "source": [
        "<a href=\"https://colab.research.google.com/github/yDaraAlves/Ci-ncias-de-Dados/blob/main/At_Avaliativa_Lista_Estrutura_de_Decis%C3%A3o_Dara_Alves.ipynb\" target=\"_parent\"><img src=\"https://colab.research.google.com/assets/colab-badge.svg\" alt=\"Open In Colab\"/></a>"
      ]
    },
    {
      "cell_type": "markdown",
      "source": [
        "Atividade Avaliativa Lista: Estrutura de Decisão\n",
        "\n",
        "Nome.: Dara alves dos Santos\n",
        "\n",
        "Materia: Ciencia de Dados\n",
        "\n",
        "Curso: Processo Gerenciais"
      ],
      "metadata": {
        "id": "OcLZzvWPf0dd"
      }
    },
    {
      "cell_type": "markdown",
      "source": [
        "1.Faça um Programa que peça dois números e imprima o maior deles."
      ],
      "metadata": {
        "id": "Aji-qQZmgrts"
      }
    },
    {
      "cell_type": "code",
      "source": [
        "N1 = float(input(\"Digite o 1º numero:\"))\n",
        "N2 = float(input(\"Digite o 2º numero:\"))\n",
        "\n",
        "if N1 > N2:\n",
        "  print( \"o maior numero é:\" , N1)\n",
        "else:\n",
        "  print(\"o maior numero é:\",N2)\n"
      ],
      "metadata": {
        "colab": {
          "base_uri": "https://localhost:8080/"
        },
        "id": "UARxP8MugD30",
        "outputId": "994a9e54-0876-4d0a-8ee6-877e05a5638e"
      },
      "execution_count": null,
      "outputs": [
        {
          "output_type": "stream",
          "name": "stdout",
          "text": [
            "Digite o 1º numero:3\n",
            "Digite o 2º numero:9\n",
            "o maior numero é: 9.0\n"
          ]
        }
      ]
    },
    {
      "cell_type": "markdown",
      "source": [
        "2.Faça um Programa que peça um valor e mostre na tela se o valor é positivo ou negativo"
      ],
      "metadata": {
        "id": "oOQb47zwgr-b"
      }
    },
    {
      "cell_type": "code",
      "source": [
        "valor = float(input(\"Digite um valor: \"))\n",
        "\n",
        "if valor > 0:\n",
        "  print(\"O valor é positivo.\")\n",
        "elif valor < 0:\n",
        "  print(\"O valor é negativo.\")\n",
        "else:\n",
        "  print(\"O valor é zero.\")\n"
      ],
      "metadata": {
        "id": "cwHP4tkxjp5p",
        "colab": {
          "base_uri": "https://localhost:8080/"
        },
        "outputId": "89296701-5336-4687-9b76-0eb7fd500f19"
      },
      "execution_count": null,
      "outputs": [
        {
          "output_type": "stream",
          "name": "stdout",
          "text": [
            "Digite um valor: -9\n",
            "O valor é negativo.\n"
          ]
        }
      ]
    },
    {
      "cell_type": "markdown",
      "source": [
        "3.Faça um Programa que verifique se uma letra digitada é \"F\" ou \"M\". Conforme a letra escrever: F - Feminino, M - Masculino, Sexo Inválido."
      ],
      "metadata": {
        "id": "GedzijwAgsBD"
      }
    },
    {
      "cell_type": "code",
      "source": [
        "letraDigitada = input(\"Digite 'F' para Feminino e 'M' para Masculino:\")\n",
        "if letraDigitada == \"F\":\n",
        "  print(\"Feminino\")\n",
        "elif letraDigitada == \"M\":\n",
        "  print(\"Masculino\")\n",
        "else:\n",
        "  print(\"Sexo invalido!\")\n"
      ],
      "metadata": {
        "colab": {
          "base_uri": "https://localhost:8080/"
        },
        "id": "3qmOhaj2kkXy",
        "outputId": "5097e5da-997f-4343-da6f-7cd566a7b9b9"
      },
      "execution_count": null,
      "outputs": [
        {
          "output_type": "stream",
          "name": "stdout",
          "text": [
            "Digite 'F' para Feminino e 'M' para Masculino:H\n",
            "Sexo invalido!\n"
          ]
        }
      ]
    },
    {
      "cell_type": "markdown",
      "source": [
        "4.Faça um Programa que verifique se uma letra digitada é vogal ou consoante.\n"
      ],
      "metadata": {
        "id": "2ihsa6eDgsDr"
      }
    },
    {
      "cell_type": "code",
      "source": [
        "letra = input(\"Digite uma letra: \").lower()\n",
        "vogais = [\"a\",\"e\",\"i\",\"o\",\"u\",\n",
        "          \"á\",\"à\",\"é\",\"ê\",\"í\"]\n",
        "\n",
        "if letra in vogais:\n",
        "  print(\"vogal\")\n",
        "else:\n",
        "  print(\"consoante\")"
      ],
      "metadata": {
        "id": "9cJr3AaGjpdY",
        "colab": {
          "base_uri": "https://localhost:8080/"
        },
        "outputId": "1c90d033-1be0-4416-9d85-f6151aecec99"
      },
      "execution_count": null,
      "outputs": [
        {
          "output_type": "stream",
          "name": "stdout",
          "text": [
            "Digite uma letra: P\n",
            "consoante\n"
          ]
        }
      ]
    },
    {
      "cell_type": "markdown",
      "source": [
        "5.Faça um programa para a leitura de duas notas parciais de um aluno. O programa deve calcular a média alcançada por aluno e apresentar:\n",
        "\n",
        "A mensagem \"Aprovado\", se a média alcançada for maior ou igual a sete;\n",
        "\n",
        "A mensagem \"Reprovado\", se a média for menor do que sete;\n",
        "\n",
        "A mensagem \"Aprovado com Distinção\", se a média for igual a dez.\n"
      ],
      "metadata": {
        "id": "OYqZmm1RgsGE"
      }
    },
    {
      "cell_type": "code",
      "source": [
        "nota1 = float(input(\"Digite a 1° nota:\"))\n",
        "nota2 = float(input(\"Digite a 2° nota:\"))\n",
        "\n",
        "media = nota1 + nota2 / 2\n",
        "\n",
        "if media >= 7 :\n",
        "  print(\"Aprovado\")\n",
        "elif media < 7:\n",
        "  print(\"Reprovado\")\n",
        "elif media == 10:\n",
        "    print(\"Aprovado com Distinção\")\n"
      ],
      "metadata": {
        "colab": {
          "base_uri": "https://localhost:8080/"
        },
        "id": "SlK1bVCXj3DH",
        "outputId": "f5005587-7eca-4bcd-cab3-f359916ababd"
      },
      "execution_count": null,
      "outputs": [
        {
          "output_type": "stream",
          "name": "stdout",
          "text": [
            "Digite a 1° nota:5\n",
            "Digite a 2° nota:7\n",
            "Aprovado\n"
          ]
        }
      ]
    },
    {
      "cell_type": "markdown",
      "source": [
        "6.Faça um Programa que leia três números e mostre o maior deles."
      ],
      "metadata": {
        "id": "hyY_x2HqgsIb"
      }
    },
    {
      "cell_type": "code",
      "source": [
        "N1 = float(input(\"Digite o 1º numero:\"))\n",
        "N2 = float(input(\"Digite o 2º numero:\"))\n",
        "N3 = float(input(\"Digite o 3º numero:\"))\n",
        "\n",
        "\n",
        "if N1 > N2 and N1 > N3 :\n",
        "  print(\"o maior numero é:\", N1)\n",
        "elif N2 > N1 and N2 > N3:\n",
        "    print(\"o maior numero é:\", N2)\n",
        "else:\n",
        "    print(\"o maior numero é:\", N3)\n"
      ],
      "metadata": {
        "colab": {
          "base_uri": "https://localhost:8080/"
        },
        "id": "DJiGNuqLj3wX",
        "outputId": "a3cefab1-c560-45e1-8d59-f899a9973289"
      },
      "execution_count": null,
      "outputs": [
        {
          "output_type": "stream",
          "name": "stdout",
          "text": [
            "Digite o 1º numero:85\n",
            "Digite o 2º numero:100\n",
            "Digite o 3º numero:2\n",
            "o maior numero é: 100.0\n"
          ]
        }
      ]
    },
    {
      "cell_type": "markdown",
      "source": [
        "7.Faça um Programa que leia três números e mostre o maior e o menor deles."
      ],
      "metadata": {
        "id": "H5N70kh6gsLT"
      }
    },
    {
      "cell_type": "code",
      "source": [
        "N1 = float(input(\"Digite o 1º numero:\"))\n",
        "N2 = float(input(\"Digite o 2º numero:\"))\n",
        "N3 = float(input(\"Digite o 3º numero:\"))\n",
        "\n",
        "# Encontrando o maior número\n",
        "maior = N1\n",
        "if N2 > maior:\n",
        "    maior = N2\n",
        "if N3 > maior:\n",
        "    maior = N3\n",
        "\n",
        "# Encontrando o menor número\n",
        "menor = N1\n",
        "if N2 < menor:\n",
        "    menor = N2\n",
        "if N3 < menor:\n",
        "    menor = N3\n",
        "\n",
        "print(\"O maior número é:\", maior)\n",
        "print(\"O menor número é:\", menor)"
      ],
      "metadata": {
        "id": "91KS3iiLj4PX",
        "colab": {
          "base_uri": "https://localhost:8080/"
        },
        "outputId": "31cf28cb-fc7f-444f-9248-29be35582db5"
      },
      "execution_count": null,
      "outputs": [
        {
          "output_type": "stream",
          "name": "stdout",
          "text": [
            "Digite o 1º numero:85\n",
            "Digite o 2º numero:6\n",
            "Digite o 3º numero:3\n",
            "O maior número é: 85.0\n",
            "O menor número é: 3.0\n"
          ]
        }
      ]
    },
    {
      "cell_type": "markdown",
      "source": [
        "8.Faça um programa que pergunte o preço de três produtos e informe qual produto você deve comprar, sabendo que a decisão é sempre pelo mais barato."
      ],
      "metadata": {
        "id": "cAmcVtzfhuPM"
      }
    },
    {
      "cell_type": "code",
      "source": [
        "preco1 = float(input(\"Digite o preço do 1ª produto:\"))\n",
        "preco2 = float(input(\"Digite o preço do 2ª produto:\"))\n",
        "preco3 = float(input(\"Digite o preço do 3ª produto:\"))\n",
        "\n",
        "if preco1 < preco2 and preco1 < preco3:\n",
        "  print(\"O 1ª produto é o mais barato.\")\n",
        "  print(\"O preço é:\", preco1)\n",
        "elif preco2 < preco1 and preco2 < preco3:\n",
        "  print(\"O 2ª produto é o mais barato.\")\n",
        "  print(\"O preço é:\", preco2)\n",
        "else:\n",
        "    print(\"O 3ª produto é o mais barato.\")\n",
        "    print(\"O preço é:\", preco3)\n",
        "\n"
      ],
      "metadata": {
        "id": "KazTghkfj5TH",
        "colab": {
          "base_uri": "https://localhost:8080/"
        },
        "outputId": "168fbcac-bc20-4f1d-f517-f896d1f3f450"
      },
      "execution_count": null,
      "outputs": [
        {
          "output_type": "stream",
          "name": "stdout",
          "text": [
            "Digite o preço do 1ª produto:53.52\n",
            "Digite o preço do 2ª produto:96.30\n",
            "Digite o preço do 3ª produto:12.3\n",
            "O 3ª produto é o mais barato.\n",
            "O preço é: 12.3\n"
          ]
        }
      ]
    },
    {
      "cell_type": "markdown",
      "source": [
        "9.Faça um Programa que leia três números e mostre-os em ordem decrescente."
      ],
      "metadata": {
        "id": "NwKBvmPBhuZL"
      }
    },
    {
      "cell_type": "code",
      "source": [
        "N1 = float(input(\"Digite o 1º numero:\"))\n",
        "N2 = float(input(\"Digite o 2º numero:\"))\n",
        "N3 = float(input(\"Digite o 3º numero:\"))\n",
        "\n",
        "if N1 > N2 and N1 > N3:\n",
        "  if N2 > N3:\n",
        "    print(N1, N2, N3)\n",
        "  else:\n",
        "    print(N1, N3, N2)\n",
        "\n"
      ],
      "metadata": {
        "id": "qqfhKcPuj6hH",
        "colab": {
          "base_uri": "https://localhost:8080/"
        },
        "outputId": "295f915f-4df3-444d-cf98-9807d7e98ffd"
      },
      "execution_count": null,
      "outputs": [
        {
          "name": "stdout",
          "output_type": "stream",
          "text": [
            "Digite o 1º numero:9\n",
            "Digite o 2º numero:6\n",
            "Digite o 3º numero:10\n"
          ]
        }
      ]
    },
    {
      "cell_type": "markdown",
      "source": [
        "10.Faça um Programa que pergunte em que turno você estuda. Peça para digitar M-matutino ou V-Vespertino ou N- Noturno.\n",
        "\n",
        "Imprima a mensagem \"Bom Dia!\", \"Boa Tarde!\" ou \"Boa Noite!\" ou \"Valor Inválido!\", conforme o caso."
      ],
      "metadata": {
        "id": "2dJtYsjjhucj"
      }
    },
    {
      "cell_type": "code",
      "source": [
        "turno = input(\"Digite o turno M-matutino ou V-Vespertino ou N- Noturno.:\")\n",
        "if turno == \"M\":\n",
        "  print(\"Bom dia\")\n",
        "elif turno == \"V\":\n",
        "  print(\"Boa tarde\")\n",
        "elif turno == \"N\":\n",
        "  print(\"Boa noite\")\n",
        "else:\n",
        "  print(\"Valor invalido!\")"
      ],
      "metadata": {
        "id": "mObL0NGwj7dp",
        "colab": {
          "base_uri": "https://localhost:8080/"
        },
        "outputId": "b4c8ce66-5ccb-49a7-ada8-defed14f21f9"
      },
      "execution_count": null,
      "outputs": [
        {
          "output_type": "stream",
          "name": "stdout",
          "text": [
            "Digite o turno M-matutino ou V-Vespertino ou N- Noturno.:P\n",
            "Valor invalido!\n"
          ]
        }
      ]
    },
    {
      "cell_type": "markdown",
      "source": [
        "11.As Organizações Tabajara resolveram dar um aumento de salário aos seus colaboradores e lhe contraram para desenvolver o programa que calculará os reajustes.\n",
        "Faça um programa que recebe o salário de um colaborador e o reajuste segundo o seguinte critério, baseado no salário atual:\n",
        "\n",
        "* salários até R$ 280,00 (incluindo) : aumento de 20%\n",
        "\n",
        "* salários entre R 280,00 e R 700,00 : aumento de 15%\n",
        "\n",
        "* salários entre R 700,00 e R 1500,00 : aumento de 10%\n",
        "\n",
        "* salários de R$ 1500,00 em diante : aumento de 5% Após o aumento ser realizado, informe na tela:\n",
        "\n",
        "* o salário antes do reajuste;\n",
        "\n",
        "* o percentual de aumento aplicado;\n",
        "\n",
        "* o valor do aumento;\n",
        "\n",
        "* o novo salário, após o aumento."
      ],
      "metadata": {
        "id": "mnF7QfzShufL"
      }
    },
    {
      "cell_type": "code",
      "source": [
        "salario = float(input(\"Informe o valor do seu salario:\"))\n",
        "if salario <= 280:\n",
        "  aumento = salario*0.2\n",
        "  print(\"O seu salario atual era de:\", salario , \"É seu aumento de 20% é:\", aumento)\n",
        "  print(\"Salario:\",salario + aumento)\n",
        "elif salario > 280 and salario <= 700:\n",
        "  aumento = salario*0.15\n",
        "  print(\"O seu salario atual era de:\", salario , \"É seu aumento de 15% é:\", aumento)\n",
        "  print(\"Salario:\",salario + aumento)\n",
        "elif salario > 700 and salario <= 1500:\n",
        "  aumento = salario*0.10\n",
        "  print(\"O seu salario atual era de:\", salario , \"É seu aumento de 10% é:\", aumento)\n",
        "  print(\"Salario:\",salario + aumento)\n",
        "else:\n",
        "  aumento = salario*0.05\n",
        "  print(\"O seu salario atual era de:\", salario , \"É seu aumento de 5% é:\", aumento)\n",
        "  print(\"Salario:\",salario + aumento)\n",
        "\n",
        "\n",
        "\n",
        "\n"
      ],
      "metadata": {
        "id": "9YdHKzD_j8Xw",
        "colab": {
          "base_uri": "https://localhost:8080/"
        },
        "outputId": "7e9fa7aa-40ec-4bbc-a3f7-b3a795cae7b9"
      },
      "execution_count": null,
      "outputs": [
        {
          "output_type": "stream",
          "name": "stdout",
          "text": [
            "Informe o valor do seu salario:1600\n",
            "O seu salario atual era de: 1600.0 É seu aumento de 5% é: 80.0\n",
            "Salario: 1680.0\n"
          ]
        }
      ]
    },
    {
      "cell_type": "markdown",
      "source": [
        "12.Faça um programa para o cálculo de uma folha de pagamento, sabendo que os descontos são do Imposto de Renda, que depende do salário bruto (conforme tabela abaixo) e 3% para o Sindicato e que o FGTS corresponde a 11% do Salário Bruto, mas não é descontado (é a empresa que deposita). O Salário Líquido corresponde ao Salário Bruto menos os descontos. O programa deverá pedir ao usuário o valor da sua hora e a quantidade de horas trabalhadas no mês.\n",
        "\n",
        "Desconto do IR:\n",
        "\n",
        "Salário Bruto até 900 (inclusive) - isento\n",
        "\n",
        "Salário Bruto até 1500 (inclusive) - desconto de 5%\n",
        "\n",
        "Salário Bruto até 2500 (inclusive) - desconto de 10%\n",
        "\n",
        "Salário Bruto acima de 2500 - desconto de 20% Imprima na tela as informações, dispostas conforme o exemplo abaixo. No exemplo o valor da hora é 5 e a quantidade de hora é 220\n",
        "\n",
        "\n",
        "Salário Bruto: (5 * 220)        : R$ 1100,00\n",
        "\n",
        "        (-) IR (5%)                     : R$   55,00  \n",
        "        (-) INSS ( 10%)                 : R$  110,00\n",
        "        FGTS (11%)                      : R$  121,00\n",
        "        Total de descontos              : R$  165,00\n",
        "        Salário Liquido                 : R$  935,00"
      ],
      "metadata": {
        "id": "TXI_-UNIhuhr"
      }
    },
    {
      "cell_type": "code",
      "source": [
        "valor = float(input(\"Digite o valor da sua hora: \"))\n",
        "hora = int(input(\"Digite total de horas trabalhadas: \"))\n",
        "\n",
        "salario_bruto = valor*hora\n",
        "if salario_bruto <= 900:\n",
        "  ir = 0\n",
        "elif salario_bruto>900 and salario_bruto<=1500:\n",
        "  ir = 0.05\n",
        "elif salario_bruto>1500 and salario_bruto<=2500:\n",
        "  ir = 0.10\n",
        "else:\n",
        "  ir = 0.20\n",
        "desconto_ir = salario_bruto*ir\n",
        "desconto_fgts = salario_bruto*0.11\n",
        "desconto_inss = salario_bruto*0.10\n",
        "desconto_sind = valor*8\n",
        "\n",
        "desconto_total = desconto_ir + desconto_inss + desconto_sind\n",
        "salario_liquido = salario_bruto-desconto_total\n",
        "\n",
        "print(\"Salário Bruto: \", salario_bruto)\n",
        "print(\"Desconto IR: \", salario_bruto*ir)\n",
        "print(\"Desconto INSS: \", salario_bruto*0.10)\n",
        "print(\"Depósito FGTS: \", salario_bruto*0.11)\n",
        "print(\"Desconto Sindicato: \", valor*8)\n",
        "print(\"Total de descontos: \", desconto_total)\n",
        "print(\"Salário Líquido: \", salario_liquido)"
      ],
      "metadata": {
        "id": "yNxQZ6Bij974"
      },
      "execution_count": null,
      "outputs": []
    },
    {
      "cell_type": "markdown",
      "source": [
        "13.Faça um Programa que leia um número e exiba o dia correspondente da semana.\n",
        "\n",
        "(1-Domingo, 2- Segunda, etc.), se digitar outro valor deve aparecer valor inválido."
      ],
      "metadata": {
        "id": "s3_0brfyhukU"
      }
    },
    {
      "cell_type": "code",
      "source": [
        "numdasemana = int(input(\"Digite o numero da semana 1-Domingo, 2-Segunda, 3-Terça,4-Quarta, 5-Quinta,6-Sexta,7-Sabado:\"))\n",
        "if numdasemana == 1:\n",
        "  print(\"Domingo\")\n",
        "elif numdasemana == 2:\n",
        "  print(\"Segunda\")\n",
        "elif numdasemana == 3:\n",
        "  print(\"Terça\")\n",
        "elif numdasemana == 4:\n",
        "  print(\"Quarta\")\n",
        "elif numdasemana == 5:\n",
        "  print(\"Quinta\")\n",
        "elif numdasemana == 6:\n",
        "  print(\"Sexta\")\n",
        "elif numdasemana == 7:\n",
        "  print(\"Sabado\")\n",
        "else:\n",
        "  print(\"valor invalido\")"
      ],
      "metadata": {
        "colab": {
          "base_uri": "https://localhost:8080/"
        },
        "id": "8YPLMbvRj_Ig",
        "outputId": "9b3a78b0-e373-4a49-88e0-17c10f5212b0"
      },
      "execution_count": null,
      "outputs": [
        {
          "output_type": "stream",
          "name": "stdout",
          "text": [
            "Digite o numero da semana 1-Domingo, 2-Segunda, 3-Terça,4-Quarta, 5-Quinta,6-Sexta,7-Sabado:5\n",
            "Quinta\n"
          ]
        }
      ]
    },
    {
      "cell_type": "markdown",
      "source": [
        "14.Faça um programa que lê as duas notas parciais obtidas por um aluno numa disciplina ao longo de um semestre, e calcule a sua média. A atribuição de conceitos obedece à tabela abaixo:\n",
        "\n",
        "            Média de Aproveitamento  Conceito\n",
        "\n",
        "            Entre 9.0 e 10.0        A\n",
        "\n",
        "            Entre 7.5 e 9.0         B\n",
        "\n",
        "            Entre 6.0 e 7.5         C\n",
        "\n",
        "            Entre 4.0 e 6.0         D\n",
        "\n",
        "            Entre 4.0 e zero        E\n",
        "\n",
        "O algoritmo deve mostrar na tela as notas, a média, o conceito correspondente e a mensagem “APROVADO” se o conceito for A, B ou C ou “REPROVADO” se o conceito for D ou E."
      ],
      "metadata": {
        "id": "UhXm_pq4humz"
      }
    },
    {
      "cell_type": "code",
      "source": [
        "nota1 = float(input(\"Digite a 1° nota:\"))\n",
        "nota2 = float(input(\"Digite a 2° nota:\"))\n",
        "\n",
        "media = nota1 + nota2 / 2\n",
        "\n",
        "if media >= 9 :\n",
        "  print(\"Conceito A \" )\n",
        "  print(\"Aprovado, é sua notas foram:\", nota1 + nota2 , \"á sua media é:\" , media )\n",
        "elif media >= 7.5 and media < 9:\n",
        "  print(\"Conceito B\")\n",
        "  print(\"Aprovado, é sua notas foram:\", nota1 + nota2 , \"á sua media é:\" , media )\n",
        "elif media >= 6 and media < 7.5:\n",
        "  print(\"Conceito C\")\n",
        "  print(\"Aprovado, é sua notas foram:\", nota1 + nota2 , \"á sua media é:\" , media )\n",
        "elif media >= 4 and media < 6:\n",
        "  print(\"Conceito D\")\n",
        "  print(\"Reprovado, é sua notas foram:\", nota1 + nota2 , \"á sua media é:\" , media )\n",
        "else:\n",
        "  print(\"Conceito E\")\n",
        "  print(\"Reprovado, é sua notas foram:\", nota1 + nota2 , \"á sua media é:\" , media )"
      ],
      "metadata": {
        "id": "i_UkhCLLkDHo",
        "colab": {
          "base_uri": "https://localhost:8080/"
        },
        "outputId": "2cd7cf72-b9eb-4fe1-cf44-c1d7ab5b962b"
      },
      "execution_count": null,
      "outputs": [
        {
          "output_type": "stream",
          "name": "stdout",
          "text": [
            "Digite a 1° nota:2\n",
            "Digite a 2° nota:2\n",
            "Conceito E\n",
            "Reprovado, é sua notas foram: 4.0 á sua media é: 3.0\n"
          ]
        }
      ]
    },
    {
      "cell_type": "markdown",
      "source": [
        "15.Faça um Programa que peça os 3 lados de um triângulo. O programa deverá informar se os valores podem ser um triângulo. Indique, caso os lados formem um triângulo, se o mesmo é: equilátero, isósceles ou escaleno.\n",
        "Dicas:\n",
        "\n",
        "* Três lados formam um triângulo quando a soma de quaisquer dois lados for maior que o terceiro;\n",
        "* Triângulo Equilátero: três lados iguais;\n",
        "* Triângulo Isósceles: quaisquer dois lados iguais;\n",
        "* Triângulo Escaleno: três lados diferentes;"
      ],
      "metadata": {
        "id": "7440tc-3jlsK"
      }
    },
    {
      "cell_type": "code",
      "source": [
        "L1 = float(input(\"Digite o primeiro lado:\"))\n",
        "L2 = float(input(\"Digite o segundo lado:\"))\n",
        "L3 = float(input(\"Digite o terceiro lado:\"))\n",
        "\n",
        "if L1 + L2 > L3 and L1 + L3 > L2 and L2 + L3 > L1:\n",
        "  print(\"É um triangulo\")\n",
        "  if L1 == L2 == L3:\n",
        "    print(\"É um triangulo equilátero\")\n",
        "  elif L1 == L2 or L1 == L3 or L2 == L3:\n",
        "    print(\"É um triangulo isósceles\")\n",
        "  elif L1 != L2 != L3:\n",
        "    print(\"E um triangulo escalate\")\n",
        "print(\"Final\")"
      ],
      "metadata": {
        "id": "wA3iNRa_mEml"
      },
      "execution_count": null,
      "outputs": []
    },
    {
      "cell_type": "markdown",
      "source": [
        "16.Faça um programa que calcule as raízes de uma equação do segundo grau, na forma ax2 + bx + c. O programa deverá pedir os valores de a, b e c e fazer as consistências, informando ao usuário nas seguintes situações:\n",
        "\n",
        "* Se o usuário informar o valor de A igual a zero, a equação não é do segundo grau e o programa não deve fazer pedir os demais valores, sendo encerrado;\n",
        "* Se o delta calculado for negativo, a equação não possui raizes reais. Informe ao usuário e encerre o programa;\n",
        "* Se o delta calculado for igual a zero a equação possui apenas uma raiz real; informe-a ao usuário;\n",
        "* Se o delta for positivo, a equação possui duas raiz reais; informe-as ao usuário;\n",
        "\n",
        "\n"
      ],
      "metadata": {
        "id": "ExqI7cXTjmfp"
      }
    },
    {
      "cell_type": "code",
      "source": [
        "a = float(input(\"Digite o valor de a: \"))\n",
        "\n",
        "if a == 0:\n",
        "  print(\"A equação não é do segundo grau.\")\n",
        "else:\n",
        "  b = float(input(\"Digite o valor de b: \"))\n",
        "  c = float(input(\"Digite o valor de c: \"))\n",
        "\n",
        "  delta = b**2 - 4*a*c\n",
        "\n",
        "  if delta < 0:\n",
        "    print(\"A equação não possui raízes reais.\")\n",
        "  elif delta == 0:\n",
        "    x = -b / (2*a)\n",
        "    print(\"A equação possui apenas uma raiz real:\", x)\n",
        "  else:\n",
        "    x1 = (-b + delta**0.5) / (2*a)\n",
        "    x2 = (-b - delta**0.5) / (2*a)\n",
        "    print(\"A equação possui duas raízes reais:\", x1, \"e\", x2)"
      ],
      "metadata": {
        "colab": {
          "base_uri": "https://localhost:8080/"
        },
        "id": "weR1GRTNKfnM",
        "outputId": "cbee5364-a894-40d4-ee9d-7b12b1f6613e"
      },
      "execution_count": null,
      "outputs": [
        {
          "output_type": "stream",
          "name": "stdout",
          "text": [
            "Digite o valor de a: 52\n",
            "Digite o valor de b: 6\n",
            "Digite o valor de c: 20\n",
            "A equação não possui raízes reais.\n"
          ]
        }
      ]
    },
    {
      "cell_type": "markdown",
      "source": [
        "17.Faça um Programa que peça um número correspondente a um determinado ano e em seguida informe se este ano é ou não bissexto."
      ],
      "metadata": {
        "id": "M5EjiSk5jmiY"
      }
    },
    {
      "cell_type": "code",
      "source": [
        "nun = int(input(\"Digite o ano:\"))\n",
        "if (nun % 4 == 0 and nun % 100 != 0) or (nun % 400 == 0):\n",
        "  print(\"Bissexto\")\n",
        "else:\n",
        "  print(\"Não é bissexto\")"
      ],
      "metadata": {
        "id": "wlNbFNJnmGEd",
        "colab": {
          "base_uri": "https://localhost:8080/"
        },
        "outputId": "f838943c-ce53-43c9-caf8-d18807b879f2"
      },
      "execution_count": null,
      "outputs": [
        {
          "output_type": "stream",
          "name": "stdout",
          "text": [
            "Digite o ano:1992\n",
            "Bissexto\n"
          ]
        }
      ]
    },
    {
      "cell_type": "markdown",
      "source": [
        "18.Faça um Programa que peça uma data no formato dd/mm/aaaa e determine se a mesma é uma data válida."
      ],
      "metadata": {
        "id": "UWXurnl9jmnY"
      }
    },
    {
      "cell_type": "code",
      "source": [
        "data = input(\"Digite a data: \")\n",
        "data_split = data.split(\"/\")\n",
        "if len(data_split)==3:\n",
        "  if (len(data_split[0])==2) and (len(data_split[1])==2) and (len(data_split[2])==4) :\n",
        "     print(\"válido\")\n",
        "  else:\n",
        "    print(\"inválido\")\n",
        "else:\n",
        "  print(\"inválido\")"
      ],
      "metadata": {
        "colab": {
          "base_uri": "https://localhost:8080/"
        },
        "id": "LaAv-nL4mG8l",
        "outputId": "4c23862b-77d2-4181-9f35-901b5f3dbd53"
      },
      "execution_count": null,
      "outputs": [
        {
          "output_type": "stream",
          "name": "stdout",
          "text": [
            "Digite a data: 25/04/2025\n",
            "válido\n"
          ]
        }
      ]
    },
    {
      "cell_type": "markdown",
      "source": [
        "19.Faça um Programa que leia um número inteiro menor que 1000 e imprima a quantidade de centenas, dezenas e unidades do mesmo.\n",
        "Observando os termos no plural a colocação do \"e\", da vírgula entre outros. Exemplo:\n",
        "* 326 = 3 centenas, 2 dezenas e 6 unidades\n",
        "* 12 = 1 dezena e 2 unidades Testar com: 326, 300, 100, 320, 310,305, 301, 101, 311, 111, 25, 20, 10, 21, 11, 1, 7 e 16"
      ],
      "metadata": {
        "id": "AhTvjFqjjmqQ"
      }
    },
    {
      "cell_type": "code",
      "source": [
        "n = input(\"Digite o numero:\")\n",
        "texto_centena = \"centena\"\n",
        "texto_dezena = \"dezena\"\n",
        "texto_unidade = \"unidade\"\n",
        "\n",
        "if int(n)<1000:\n",
        "  if len(n)==3:\n",
        "    centena = n[0]\n",
        "    dezena = n[1]\n",
        "    unidade = n[2]\n",
        "\n",
        "    if int(centena)>1:\n",
        "      texto_centena = texto_centena + \"s\"\n",
        "    if int(dezena)>1:\n",
        "      texto_dezena = texto_dezena + \"s\"\n",
        "    if int(unidade)>1:\n",
        "      texto_unidade = texto_unidade + \"s\"\n",
        "\n",
        "    print(centena, texto_centena,\",\",\n",
        "          dezena, texto_dezena,\"e\",\n",
        "          unidade, texto_unidade)\n",
        "\n",
        "  elif len(n)==2:\n",
        "    dezena=n[0]\n",
        "    unidade =n[1]\n",
        "\n",
        "    if int(dezena)>1:\n",
        "      texto_dezena = texto_dezena + \"s\"\n",
        "    if int(unidade)>1:\n",
        "      texto_unidade = texto_unidade + \"s\"\n",
        "\n",
        "    print(dezena, texto_dezena,\" e\",\n",
        "          unidade, texto_unidade)\n",
        "\n",
        "  else:\n",
        "    unidade=n[0]\n",
        "\n",
        "    if int(unidade)>1:\n",
        "      texto_unidade = texto_unidade + \"s\"\n",
        "\n",
        "    print(unidade, texto_unidade)\n",
        "\n",
        "else:\n",
        "  print(\"Maior que 1000\")"
      ],
      "metadata": {
        "colab": {
          "base_uri": "https://localhost:8080/"
        },
        "id": "isv49sX6As0T",
        "outputId": "3ea693e3-3c45-4338-dbde-5966971e4463"
      },
      "execution_count": null,
      "outputs": [
        {
          "output_type": "stream",
          "name": "stdout",
          "text": [
            "Digite o numero:52\n",
            "5 dezenas  e 2 unidades\n"
          ]
        }
      ]
    },
    {
      "cell_type": "markdown",
      "source": [
        "20.Faça um Programa para leitura de três notas parciais de um aluno. O programa deve calcular a média alcançada por aluno e presentar:\n",
        "1. A mensagem \"Aprovado\", se a média for maior ou igual a 7, com a respectiva média alcançada;\n",
        "2. A mensagem \"Reprovado\", se a média for menor do que 7, com a respectiva média alcançada;\n",
        "3. A mensagem \"Aprovado com Distinção\", se a média for igual a 10."
      ],
      "metadata": {
        "id": "u6WTLOvyjmsw"
      }
    },
    {
      "cell_type": "code",
      "source": [
        "nota1 = float(input(\"Digite a 1° nota:\"))\n",
        "nota2 = float(input(\"Digite a 2° nota:\"))\n",
        "nota3 = float(input(\"Digite a 3° nota:\"))\n",
        "\n",
        "media = nota1 + nota2 + nota3 / 3\n",
        "\n",
        "\n",
        "if  media >= 7 and media < 9 :\n",
        "  print(\"Aprovado, media alcançada foi:\" , media)\n",
        "elif media < 7:\n",
        "  print(\"Reprovado, media alcançada foi:\" , media)\n",
        "elif media >= 10:\n",
        "    print(\"Aprovado com Distinção, media alcançada foi:\" , media)\n"
      ],
      "metadata": {
        "id": "-W7g2SMNmIRl",
        "colab": {
          "base_uri": "https://localhost:8080/"
        },
        "outputId": "66284168-2153-4562-fb70-84ccf9c02190"
      },
      "execution_count": null,
      "outputs": [
        {
          "output_type": "stream",
          "name": "stdout",
          "text": [
            "Digite a 1° nota:10\n",
            "Digite a 2° nota:10\n",
            "Digite a 3° nota:10\n",
            "Aprovado com Distinção, media alcançada foi: 23.333333333333332\n"
          ]
        }
      ]
    },
    {
      "cell_type": "markdown",
      "source": [
        "21.Faça um Programa para um caixa eletrônico. O programa deverá perguntar ao usuário a valor do saque e depois informar quantas notas de cada valor serão fornecidas. As notas disponíveis serão as de 1, 5, 10, 50 e 100 reais. O valor mínimo é de 10 reais e o máximo de 600 reais. O programa não deve se preocupar com a quantidade de notas existentes na máquina.\n",
        "\n",
        "* Exemplo 1: Para sacar a quantia de 256 reais, o programa fornece duas notas de 100, uma nota de 50, uma nota de 5 e uma nota de 1;\n",
        "* Exemplo 2: Para sacar a quantia de 399 reais, o programa fornece três notas de 100, uma nota de 50, quatro notas de 10, uma nota de 5 e quatro notas de 1."
      ],
      "metadata": {
        "id": "fsEq0ldqjmvS"
      }
    },
    {
      "cell_type": "code",
      "source": [
        "valor = int(input(\"Valor do saque:\"))\n",
        "if valor >= 10 and valor <=600:\n",
        "  cem = valor//100\n",
        "  valor%=100\n",
        "\n",
        "  cinquenta = valor//50\n",
        "  valor%=50\n",
        "\n",
        "  dez = valor//10\n",
        "  valor%=10\n",
        "\n",
        "  cinco = valor//5\n",
        "  valor%=5\n",
        "  um = valor//1\n",
        "  valor%=1\n",
        "  print(\"Notas de 100:\", cem)\n",
        "  print(\"Notas de 50:\", cinquenta)\n",
        "  print(\"Notas de 10:\", dez)\n",
        "  print(\"Notas de 5:\", cinco)\n",
        "  print(\"Notas de 1:\", um)\n",
        "\n",
        "\n",
        "\n",
        "\n",
        "\n"
      ],
      "metadata": {
        "id": "HnCd8HiTmJyN",
        "colab": {
          "base_uri": "https://localhost:8080/"
        },
        "outputId": "c9fa4e3f-4fee-4b0e-83fc-78d3bdb2c38a"
      },
      "execution_count": null,
      "outputs": [
        {
          "output_type": "stream",
          "name": "stdout",
          "text": [
            "Valor do saque:256\n",
            "Notas de 100: 2\n",
            "Notas de 50: 1\n",
            "Notas de 10: 0\n",
            "Notas de 5: 1\n",
            "Notas de 1: 1\n"
          ]
        }
      ]
    },
    {
      "cell_type": "markdown",
      "source": [
        "22.Faça um Programa que peça um número inteiro e determine se ele é par ou impar. Dica: utilize o operador módulo (resto da divisão)."
      ],
      "metadata": {
        "id": "20eds0QOjmx5"
      }
    },
    {
      "cell_type": "code",
      "source": [
        "nun = int(input(\"Digite o numero:\"))\n",
        "if nun % 2 == 0:\n",
        "  print(\"Par\")\n",
        "else:\n",
        "  print(\"Impar\")"
      ],
      "metadata": {
        "id": "w6qm-NDpmKQl",
        "colab": {
          "base_uri": "https://localhost:8080/"
        },
        "outputId": "eee4382e-a2ec-4c76-9182-03cfa060b749"
      },
      "execution_count": null,
      "outputs": [
        {
          "output_type": "stream",
          "name": "stdout",
          "text": [
            "Digite o numero:1\n",
            "Impar\n"
          ]
        }
      ]
    },
    {
      "cell_type": "markdown",
      "source": [
        "23.Faça um Programa que peça um número e informe se o número é inteiro ou decimal. Dica: utilize uma função de arredondamento."
      ],
      "metadata": {
        "id": "Cv6e_QHfjm0S"
      }
    },
    {
      "cell_type": "code",
      "source": [
        "nun = float(input(\"Digite o numero:\"))\n",
        "if nun == round(nun):\n",
        "  print(\"Inteiro\")\n",
        "else:\n",
        "  print(\"Decimal\")"
      ],
      "metadata": {
        "id": "p2HkJxoEmKvF",
        "colab": {
          "base_uri": "https://localhost:8080/"
        },
        "outputId": "ce1d40a9-33c6-4235-964b-f0df7e3e64f2"
      },
      "execution_count": null,
      "outputs": [
        {
          "output_type": "stream",
          "name": "stdout",
          "text": [
            "Digite o numero:10\n",
            "Inteiro\n"
          ]
        }
      ]
    },
    {
      "cell_type": "markdown",
      "source": [
        "24.Faça um Programa que leia 2 números e em seguida pergunte ao usuário qual operação ele deseja realizar. O resultado da operação deve ser acompanhado de uma frase que diga se o número é:\n",
        "* par ou ímpar;\n",
        "* positivo ou negativo;\n",
        "* inteiro ou decimal."
      ],
      "metadata": {
        "id": "I1K5mLfHjm25"
      }
    },
    {
      "cell_type": "code",
      "execution_count": null,
      "metadata": {
        "id": "SGV_TPU4fja_",
        "colab": {
          "base_uri": "https://localhost:8080/"
        },
        "outputId": "26cafaf3-3da4-453e-d550-711eff0c40ad"
      },
      "outputs": [
        {
          "output_type": "stream",
          "name": "stdout",
          "text": [
            "Digite o 1° numero:5\n",
            "Digite o 2° numero:5\n",
            "Digite a operação (+, -, *, /):+\n",
            "Par\n",
            "Positivo\n",
            "Inteiro\n"
          ]
        }
      ],
      "source": [
        "nun1 = float(input(\"Digite o 1° numero:\"))\n",
        "nun2 = float(input(\"Digite o 2° numero:\"))\n",
        "operacao = input(\"Digite a operação (+, -, *, /):\")\n",
        "\n",
        "if operacao == \"+\":\n",
        "  resultado = nun1 + nun2\n",
        "  if resultado % 2 == 0:\n",
        "    print(\"Par\")\n",
        "  else:\n",
        "    print(\"Impar\")\n",
        "  if resultado > 0:\n",
        "    print(\"Positivo\")\n",
        "  else:\n",
        "    print(\"Negativo\")\n",
        "  if resultado == round(resultado):\n",
        "    print(\"Inteiro\")\n",
        "  else:\n",
        "    print(\"Decimal\")\n",
        "elif operacao == \"-\":\n",
        "  resultado = nun1 - nun2\n",
        "  if resultado % 2 == 0:\n",
        "    print(\"Par\")\n",
        "  else:\n",
        "    print(\"Impar\")\n",
        "  if resultado > 0:\n",
        "    print(\"Positivo\")\n",
        "  else:\n",
        "    print(\"Negativo\")\n",
        "  if resultado == round(resultado):\n",
        "    print(\"Inteiro\")\n",
        "  else:\n",
        "    print(\"Decimal\")\n",
        "elif operacao == \"*\":\n",
        "  resultado = nun1 * nun2\n",
        "  if resultado % 2 == 0:\n",
        "    print(\"Par\")\n",
        "  else:\n",
        "    print(\"Impar\")\n",
        "  if resultado > 0:\n",
        "    print(\"Positivo\")\n",
        "  else:\n",
        "    print(\"Negativo\")\n",
        "  if resultado == round(resultado):\n",
        "    print(\"Inteiro\")\n",
        "  else:\n",
        "    print(\"Decimal\")\n",
        "elif operacao == \"/\":\n",
        "  resultado = nun1 / nun2\n",
        "  if resultado % 2 == 0:\n",
        "    print(\"Par\")\n",
        "  else:\n",
        "    print(\"Impar\")\n",
        "  if resultado > 0:\n",
        "    print(\"Positivo\")\n",
        "  else:\n",
        "    print(\"Negativo\")\n",
        "  if resultado == round(resultado):\n",
        "    print(\"Inteiro\")\n",
        "  else:\n",
        "    print(\"Decimal\")"
      ]
    },
    {
      "cell_type": "markdown",
      "source": [
        "25.Faça um programa que faça 5 perguntas para uma pessoa sobre um crime. As perguntas são:\n",
        "* \"Telefonou para a vítima?\"\n",
        "* \"Esteve no local do crime?\"\n",
        "* \"Mora perto da vítima?\"\n",
        "* \"Devia para a vítima?\"\n",
        "* \"Já trabalhou com a vítima?\" O programa deve no final emitir uma classificação sobre a participação da pessoa no crime. Se a pessoa responder positivamente a 2 questões ela deve ser classificada como \"Suspeita\", entre 3 e 4 como \"Cúmplice\" e 5 como \"Assassino\". Caso contrário, ele será classificado como \"Inocente\"."
      ],
      "metadata": {
        "id": "kDWsn6xQmL2t"
      }
    },
    {
      "cell_type": "code",
      "source": [
        "\n",
        "per1 = input(\"Telefonou para a vítima?(s/n)\")\n",
        "per2 = input(\"Esteve no local do crime?(s/n)\")\n",
        "per3 = input(\"Mora perto da vítima?(s/n)\")\n",
        "per4 = input(\"Devia para a vítima?(s/n)\")\n",
        "per5 = input(\"Já trabalhou com a vítima?(s/n)\")\n",
        "\n",
        "contador = 0\n",
        "\n",
        "if per1 == \"s\":\n",
        " contador = contador + 1\n",
        "if per2 == \"s\":\n",
        " contador = contador + 1\n",
        "if per3 == \"s\":\n",
        " contador = contador + 1\n",
        "if per4 == \"s\":\n",
        " contador = contador + 1\n",
        "if per5 == \"s\":\n",
        " contador = contador + 1\n",
        "\n",
        "\n",
        "if contador == 2:\n",
        " print(\"Suspeita\")\n",
        "elif contador == 3 or contador == 4:\n",
        " print(\"Cúmplice\")\n",
        "elif contador == 5:\n",
        "  print(\"Assassino\")\n",
        "else:\n",
        "    (\"Inocente\")\n"
      ],
      "metadata": {
        "id": "7uBx0PbroINb"
      },
      "execution_count": null,
      "outputs": []
    },
    {
      "cell_type": "markdown",
      "source": [
        "26.Um posto está vendendo combustíveis com a seguinte tabela de descontos:\n",
        "\n",
        "Álcool:\n",
        "  * até 20 litros, desconto de 3% por litro\n",
        "  * acima de 20 litros, desconto de 5% por litro\n",
        "\n",
        "Gasolina:\n",
        "  * até 20 litros, desconto de 4% por litro\n",
        "  * acima de 20 litros, desconto de 6% por litro Escreva um algoritmo que leia o número de litros vendidos, o tipo de combustível (codificado da seguinte forma: A-álcool, G-gasolina), calcule e imprima o valor a ser pago pelo cliente sabendo-se que o preço do litro da gasolina é R 2,50 o preço do litro do álcool é R$ 1,90."
      ],
      "metadata": {
        "id": "tSc83rUumN7P"
      }
    },
    {
      "cell_type": "code",
      "source": [
        "litros_vendidos = float(input(\"Digite a quantidade de litros vendidos: \"))\n",
        "tipo_combustivel = input(\"Digite o tipo de combustível (A-álcool, G-gasolina): \")\n",
        "\n",
        "if tipo_combustivel == \"A\":\n",
        "  preco_litro = 1.90\n",
        "  if litros_vendidos <= 20:\n",
        "    desconto = 0.03\n",
        "    print(\"Valor a ser pago é:\", preco_litro * litros_vendidos * (1 - desconto))\n",
        "  else:\n",
        "    desconto = 0.05\n",
        "    print(\"Valor a ser pago é:\", preco_litro * litros_vendidos * (1 - desconto))\n",
        "elif tipo_combustivel == \"G\":\n",
        "  preco_litro = 2.50\n",
        "  if litros_vendidos <= 20:\n",
        "    desconto = 0.04\n",
        "    print(\"Valor a ser pago é:\", preco_litro * litros_vendidos * (1 - desconto))\n",
        "  else:\n",
        "    desconto = 0.06\n",
        "    print(\"Valor a ser pago é:\", preco_litro * litros_vendidos * (1 - desconto))\n",
        "else:\n",
        "  print(\"Tipo de combustível inválido\")"
      ],
      "metadata": {
        "id": "vb2uTjkkoJOT",
        "colab": {
          "base_uri": "https://localhost:8080/"
        },
        "outputId": "5231566a-ac71-42e8-edea-8ecce96a181c"
      },
      "execution_count": null,
      "outputs": [
        {
          "output_type": "stream",
          "name": "stdout",
          "text": [
            "Digite a quantidade de litros vendidos: 25\n",
            "Digite o tipo de combustível (A-álcool, G-gasolina): G\n",
            "Valor a ser pago é: 58.75\n"
          ]
        }
      ]
    },
    {
      "cell_type": "markdown",
      "source": [
        "27.Uma fruteira está vendendo frutas com a seguinte tabela de preços:\n",
        "\n",
        "                        Até 5 Kg           Acima de 5 Kg\n",
        "            Morango         R 2,50 por Kg          R 2,20 por Kg\n",
        "            Maçã            R 1,80 por Kg       R 1,50 por Kg\n",
        "\n",
        "Se o cliente comprar mais de 8 Kg em frutas ou o valor total da compra ultrapassar R$ 25,00, receberá ainda um desconto de 10% sobre este total. Escreva um algoritmo para ler a quantidade (em Kg) de morangos e a quantidade (em Kg) de maças adquiridas e escreva o valor a ser pago pelo cliente."
      ],
      "metadata": {
        "id": "Pek5hdY9mN9v"
      }
    },
    {
      "cell_type": "code",
      "source": [],
      "metadata": {
        "id": "B4hFHykE9RCh"
      },
      "execution_count": null,
      "outputs": []
    },
    {
      "cell_type": "code",
      "source": [
        "vendas = input(\"Informer o que deseja (MORANGO - MAÇA): \")\n",
        "kilo = float(input(\"Quantos kilos deseja: \"))\n",
        "\n",
        "desconto = 0.10\n",
        "\n",
        "\n",
        "if vendas == \"MORANGO\"  and kilo <= 5:\n",
        "  print(\"Valor a ser pago é Morangos:\", kilo * 2.50)\n",
        "  if kilo >= 8 and kilo == \"MORANGO\":\n",
        "    print(\"Valor a ser pago é:\", kilo * 2.20 )\n",
        "  else:\n",
        "    print(\"Valor a ser pago é:\", kilo * 2.20 * (1 - desconto))\n",
        "elif vendas == \"MAÇA\":\n",
        "  print(\"Valor a ser pago é Morangos:\", kilo * 1.80)\n",
        "elif kilo <= 8 and kilo == \"MAÇA\":\n",
        "  desconto = 0.10\n",
        "  print(\"Valor a ser pago é:\", kilo * 1.50 * (1 - desconto))"
      ],
      "metadata": {
        "id": "EkAgBLFgo6RS",
        "colab": {
          "base_uri": "https://localhost:8080/"
        },
        "outputId": "57b464ed-125b-4d6e-b55c-988127c46786"
      },
      "execution_count": null,
      "outputs": [
        {
          "output_type": "stream",
          "name": "stdout",
          "text": [
            "Informer o que deseja (MORANGO - MAÇA): MORANGO\n",
            "Quantos kilos deseja: 5\n",
            "Valor a ser pago é Morangos: 12.5\n",
            "Valor a ser pago é: 9.9\n"
          ]
        }
      ]
    },
    {
      "cell_type": "markdown",
      "source": [
        "28.O Hipermercado Tabajara está com uma promoção de carnes que é imperdível. Confira:\n",
        "\n",
        "                      Até 5 Kg           Acima de 5 Kg\n",
        "        File Duplo      R$ 4,90 por Kg          R$ 5,80 por Kg\n",
        "        Alcatra         R$ 5,90 por Kg          R$ 6,80 por Kg\n",
        "        Picanha         R$ 6,90 por Kg          R$ 7,80 por Kg\n",
        "        \n",
        "Para atender a todos os clientes, cada cliente poderá levar apenas um dos tipos de carne da promoção, porém não há limites para a quantidade de carne por cliente. Se compra for feita no cartão Tabajara o cliente receberá ainda um desconto de 5% sobre o total da compra. Escreva um programa que peça o tipo e a quantidade de carne comprada pelo usuário e gere um cupom fiscal, contendo as informações da compra: tipo e quantidade de carne, preço total, tipo de pagamento, valor do desconto e valor a pagar."
      ],
      "metadata": {
        "id": "minV9NedmODv"
      }
    },
    {
      "cell_type": "code",
      "source": [],
      "metadata": {
        "id": "OacZvAKEo7TC"
      },
      "execution_count": null,
      "outputs": []
    },
    {
      "cell_type": "markdown",
      "source": [
        "Fim de Atividade!!!!!"
      ],
      "metadata": {
        "id": "GqpC-RoSmOJn"
      }
    }
  ]
}